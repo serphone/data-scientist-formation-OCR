{
 "cells": [
  {
   "cell_type": "markdown",
   "metadata": {},
   "source": [
    "## Imports"
   ]
  },
  {
   "cell_type": "code",
   "execution_count": 1,
   "metadata": {},
   "outputs": [],
   "source": [
    "import cv2\n",
    "import numpy as np\n",
    "import pandas as pd\n",
    "import matplotlib.pyplot as plt\n",
    "\n",
    "from sklearn.model_selection import train_test_split, GridSearchCV\n",
    "from sklearn.preprocessing import LabelEncoder, normalize\n",
    "from sklearn.cluster import MiniBatchKMeans\n",
    "from sklearn.linear_model import LogisticRegression\n",
    "from sklearn.metrics import accuracy_score\n",
    "\n",
    "from utils import load_images, plot_confusion_matrix"
   ]
  },
  {
   "cell_type": "markdown",
   "metadata": {},
   "source": [
    "## Parameters"
   ]
  },
  {
   "cell_type": "code",
   "execution_count": 81,
   "metadata": {},
   "outputs": [],
   "source": [
    "N_BREEDS = 3\n",
    "STD_SIZE = (500, 375)\n",
    "\n",
    "ENVIRONNEMENT = 'local'\n",
    "if ENVIRONNEMENT == 'colab':\n",
    "    PATH = '/content/gdrive/My Drive/Colab Notebooks/Data/'\n",
    "else:\n",
    "    PATH = 'images/'\n",
    "\n",
    "params = {\n",
    "    'filter': 'whitening',\n",
    "    'box_size': 3,  # Used only with mean, gaussian and median filter\n",
    "    'n_clusters': 100*N_BREEDS,  \n",
    "}"
   ]
  },
  {
   "cell_type": "markdown",
   "metadata": {},
   "source": [
    "## Load images"
   ]
  },
  {
   "cell_type": "code",
   "execution_count": 24,
   "metadata": {},
   "outputs": [
    {
     "name": "stdout",
     "output_type": "stream",
     "text": [
      "Loaded 1/3: 152 images for breed: Chihuahua\n",
      "Loaded 2/3: 185 images for breed: Japanese_spaniel\n",
      "Loaded 3/3: 252 images for breed: Maltese_dog\n"
     ]
    }
   ],
   "source": [
    "images_orig, y = load_images(PATH, N_BREEDS, STD_SIZE)"
   ]
  },
  {
   "cell_type": "markdown",
   "metadata": {},
   "source": [
    "## Apply filter"
   ]
  },
  {
   "cell_type": "code",
   "execution_count": 82,
   "metadata": {},
   "outputs": [
    {
     "name": "stdout",
     "output_type": "stream",
     "text": [
      "Images pre-processed with whitening filter\n"
     ]
    }
   ],
   "source": [
    "images = np.array(images_orig)\n",
    "if params['filter'] == 'equalize':\n",
    "    images = [cv2.equalizeHist(img) for img in images]\n",
    "if params['filter'] == 'mean':\n",
    "    images = [cv2.blur(img, (params['box_size'], params['box_size'])) for img in images]\n",
    "if params['filter'] == 'gaussian':\n",
    "    images = [cv2.GaussianBlur(img, (params['box_size'], params['box_size']), 0) for img in images]\n",
    "if params['filter'] == 'median':\n",
    "    images = [cv2.medianBlur(img, params['box_size']) for img in images]\n",
    "if params['filter'] == 'non-local':\n",
    "    images = [cv2.fastNlMeansDenoising(img) for img in images]\n",
    "if params['filter'] == 'whitening':   \n",
    "    images = np.array(images_orig)\n",
    "    images_temp = images.reshape(images.shape[0], -1)\n",
    "    images_temp = images_temp - images_temp.mean(axis=0)\n",
    "    cov = np.cov(images_temp, rowvar=True)\n",
    "    U, S, V = np.linalg.svd(cov)\n",
    "    epsilon = 1e-1\n",
    "    images_ZCA = np.dot(np.dot(U, np.dot(np.diag(1.0 / np.sqrt(S + epsilon)), U.T)), images_temp)\n",
    "    images_ZCA_rescaled = 255 * (images_ZCA - images_ZCA.min()) / (images_ZCA.max() - images_ZCA.min())\n",
    "    images = images_ZCA_rescaled.reshape(images.shape[0], 375, 500).astype('uint8') \n",
    "images = np.array(images)\n",
    "print(f\"Images pre-processed with {params['filter']} filter\")"
   ]
  },
  {
   "cell_type": "markdown",
   "metadata": {},
   "source": [
    "## Train/test split"
   ]
  },
  {
   "cell_type": "code",
   "execution_count": 83,
   "metadata": {},
   "outputs": [],
   "source": [
    "images_train, images_test, y_train, y_test = train_test_split(images, y, test_size=0.20, stratify=y, random_state=0)"
   ]
  },
  {
   "cell_type": "markdown",
   "metadata": {},
   "source": [
    "## Extract SIFT features"
   ]
  },
  {
   "cell_type": "code",
   "execution_count": 84,
   "metadata": {},
   "outputs": [
    {
     "name": "stdout",
     "output_type": "stream",
     "text": [
      "45610 SIFT descriptors detected over 471 images\n"
     ]
    }
   ],
   "source": [
    "sift = cv2.xfeatures2d_SIFT.create()\n",
    "descriptors = []\n",
    "for image in images_train:\n",
    "    kp, desc = sift.detectAndCompute(image, None)\n",
    "    descriptors.extend([x for x in desc])\n",
    "print(f'{len(descriptors)} SIFT descriptors detected over {images_train.shape[0]} images')"
   ]
  },
  {
   "cell_type": "markdown",
   "metadata": {},
   "source": [
    "## KMeans clustering"
   ]
  },
  {
   "cell_type": "code",
   "execution_count": 85,
   "metadata": {},
   "outputs": [
    {
     "name": "stdout",
     "output_type": "stream",
     "text": [
      "KMeans clustering with 300 clusters\n"
     ]
    }
   ],
   "source": [
    "kmeans = MiniBatchKMeans(n_clusters=params['n_clusters'], batch_size=10000, random_state=0)\n",
    "kmeans.fit(descriptors)\n",
    "print(f'KMeans clustering with {params[\"n_clusters\"]} clusters')"
   ]
  },
  {
   "cell_type": "markdown",
   "metadata": {},
   "source": [
    "## Inputs"
   ]
  },
  {
   "cell_type": "code",
   "execution_count": 86,
   "metadata": {},
   "outputs": [],
   "source": [
    "X_train = pd.DataFrame(columns=range(len(kmeans.cluster_centers_)))\n",
    "X_test = pd.DataFrame(columns=range(len(kmeans.cluster_centers_)))\n",
    "for image in images_train:\n",
    "    kp, desc = sift.detectAndCompute(image, None)\n",
    "    labels = kmeans.predict(pd.DataFrame(desc))\n",
    "    unique, counts = np.unique(labels, return_counts=True)\n",
    "    X_train = X_train.append(dict(zip(unique, counts)), ignore_index=True)\n",
    "for image in images_test:\n",
    "    kp, desc = sift.detectAndCompute(image, None)\n",
    "    labels = kmeans.predict(pd.DataFrame(desc))\n",
    "    unique, counts = np.unique(labels, return_counts=True)\n",
    "    X_test = X_test.append(dict(zip(unique, counts)), ignore_index=True)\n",
    "\n",
    "X_train.fillna(0, inplace=True)\n",
    "X_test.fillna(0, inplace=True)"
   ]
  },
  {
   "cell_type": "markdown",
   "metadata": {},
   "source": [
    "## Output"
   ]
  },
  {
   "cell_type": "code",
   "execution_count": 87,
   "metadata": {},
   "outputs": [],
   "source": [
    "le = LabelEncoder().fit(y_train)\n",
    "y_train = le.transform(y_train)\n",
    "y_test = le.transform(y_test)"
   ]
  },
  {
   "cell_type": "markdown",
   "metadata": {},
   "source": [
    "## Train classifier (CV)"
   ]
  },
  {
   "cell_type": "code",
   "execution_count": 88,
   "metadata": {
    "scrolled": true
   },
   "outputs": [
    {
     "name": "stdout",
     "output_type": "stream",
     "text": [
      "Fitting 4 folds for each of 21 candidates, totalling 84 fits\n"
     ]
    },
    {
     "name": "stderr",
     "output_type": "stream",
     "text": [
      "[Parallel(n_jobs=1)]: Done  84 out of  84 | elapsed:    1.5s finished\n"
     ]
    },
    {
     "data": {
      "image/png": "[encoded data removed]",
      "text/plain": [
       "<matplotlib.figure.Figure at 0x1b9f4cf8>"
      ]
     },
     "metadata": {},
     "output_type": "display_data"
    }
   ],
   "source": [
    "param_grid = {'C': np.logspace(-10, 10, 21)}\n",
    "model = GridSearchCV(LogisticRegression(), param_grid, cv=4, scoring='accuracy', verbose=1)\n",
    "model.fit(X_train, y_train)\n",
    "\n",
    "plt.semilogx(model.param_grid['C'], model.cv_results_['mean_test_score'])\n",
    "plt.ylabel('Accuracy')\n",
    "plt.xlabel('C')\n",
    "plt.show()\n",
    "\n",
    "y_pred = model.predict(X_test)"
   ]
  },
  {
   "cell_type": "markdown",
   "metadata": {},
   "source": [
    "## Results"
   ]
  },
  {
   "cell_type": "markdown",
   "metadata": {},
   "source": [
    "### Baseline"
   ]
  },
  {
   "cell_type": "code",
   "execution_count": 32,
   "metadata": {},
   "outputs": [
    {
     "name": "stdout",
     "output_type": "stream",
     "text": [
      "----- Accuracy: 61.86 % -----\n",
      "Filter: None (box size: 9 - only relevant for mean, gaussian and median filters)\n",
      "n_clusters: 300\n"
     ]
    },
    {
     "data": {
      "image/png": "[encoded data removed]",
      "text/plain": [
       "<matplotlib.figure.Figure at 0x254c2438>"
      ]
     },
     "metadata": {},
     "output_type": "display_data"
    }
   ],
   "source": [
    "print(f'----- Accuracy: {accuracy_score(y_test, y_pred) * 100:.2f} % -----')\n",
    "print(f'Filter: {params[\"filter\"]} (box size: {params[\"box_size\"]} - only relevant for mean, gaussian and median filters)')\n",
    "print(f'n_clusters: {params[\"n_clusters\"]}')\n",
    "\n",
    "plot_confusion_matrix(y_test, y_pred, le.classes_)\n",
    "plt.show()"
   ]
  },
  {
   "cell_type": "markdown",
   "metadata": {},
   "source": [
    "### Equalization"
   ]
  },
  {
   "cell_type": "code",
   "execution_count": 42,
   "metadata": {},
   "outputs": [
    {
     "name": "stdout",
     "output_type": "stream",
     "text": [
      "----- Accuracy: 61.02 % -----\n",
      "Filter: equalize (box size: 9 - only relevant for mean, gaussian and median filters)\n",
      "n_clusters: 300\n"
     ]
    },
    {
     "data": {
      "image/png": "[encoded data removed]",
      "text/plain": [
       "<matplotlib.figure.Figure at 0x25d871d0>"
      ]
     },
     "metadata": {},
     "output_type": "display_data"
    }
   ],
   "source": [
    "print(f'----- Accuracy: {accuracy_score(y_test, y_pred) * 100:.2f} % -----')\n",
    "print(f'Filter: {params[\"filter\"]} (box size: {params[\"box_size\"]} - only relevant for mean, gaussian and median filters)')\n",
    "print(f'n_clusters: {params[\"n_clusters\"]}')\n",
    "\n",
    "plot_confusion_matrix(y_test, y_pred, le.classes_)\n",
    "plt.show()"
   ]
  },
  {
   "cell_type": "markdown",
   "metadata": {},
   "source": [
    "### Averaging"
   ]
  },
  {
   "cell_type": "code",
   "execution_count": 53,
   "metadata": {},
   "outputs": [
    {
     "name": "stdout",
     "output_type": "stream",
     "text": [
      "----- Accuracy: 64.41 % -----\n",
      "Filter: mean (box size: 5 - only relevant for mean, gaussian and median filters)\n",
      "n_clusters: 300\n"
     ]
    },
    {
     "data": {
      "image/png": "[encoded data removed]",
      "text/plain": [
       "<matplotlib.figure.Figure at 0x1b9e42b0>"
      ]
     },
     "metadata": {},
     "output_type": "display_data"
    }
   ],
   "source": [
    "print(f'----- Accuracy: {accuracy_score(y_test, y_pred) * 100:.2f} % -----')\n",
    "print(f'Filter: {params[\"filter\"]} (box size: {params[\"box_size\"]} - only relevant for mean, gaussian and median filters)')\n",
    "print(f'n_clusters: {params[\"n_clusters\"]}')\n",
    "\n",
    "plot_confusion_matrix(y_test, y_pred, le.classes_)\n",
    "plt.show()"
   ]
  },
  {
   "cell_type": "markdown",
   "metadata": {},
   "source": [
    "### Gaussian filter"
   ]
  },
  {
   "cell_type": "code",
   "execution_count": 62,
   "metadata": {},
   "outputs": [
    {
     "name": "stdout",
     "output_type": "stream",
     "text": [
      "----- Accuracy: 56.78 % -----\n",
      "Filter: gaussian (box size: 3 - only relevant for mean, gaussian and median filters)\n",
      "n_clusters: 300\n"
     ]
    },
    {
     "data": {
      "image/png": "[encoded data removed]",
      "text/plain": [
       "<matplotlib.figure.Figure at 0x26311a58>"
      ]
     },
     "metadata": {},
     "output_type": "display_data"
    }
   ],
   "source": [
    "print(f'----- Accuracy: {accuracy_score(y_test, y_pred) * 100:.2f} % -----')\n",
    "print(f'Filter: {params[\"filter\"]} (box size: {params[\"box_size\"]} - only relevant for mean, gaussian and median filters)')\n",
    "print(f'n_clusters: {params[\"n_clusters\"]}')\n",
    "\n",
    "plot_confusion_matrix(y_test, y_pred, le.classes_)\n",
    "plt.show()"
   ]
  },
  {
   "cell_type": "markdown",
   "metadata": {},
   "source": [
    "### Median filter"
   ]
  },
  {
   "cell_type": "code",
   "execution_count": 71,
   "metadata": {},
   "outputs": [
    {
     "name": "stdout",
     "output_type": "stream",
     "text": [
      "----- Accuracy: 59.32 % -----\n",
      "Filter: median (box size: 3 - only relevant for mean, gaussian and median filters)\n",
      "n_clusters: 300\n"
     ]
    },
    {
     "data": {
      "image/png": "[encoded data removed]",
      "text/plain": [
       "<matplotlib.figure.Figure at 0x37737940>"
      ]
     },
     "metadata": {},
     "output_type": "display_data"
    }
   ],
   "source": [
    "print(f'----- Accuracy: {accuracy_score(y_test, y_pred) * 100:.2f} % -----')\n",
    "print(f'Filter: {params[\"filter\"]} (box size: {params[\"box_size\"]} - only relevant for mean, gaussian and median filters)')\n",
    "print(f'n_clusters: {params[\"n_clusters\"]}')\n",
    "\n",
    "plot_confusion_matrix(y_test, y_pred, le.classes_)\n",
    "plt.show()"
   ]
  },
  {
   "cell_type": "markdown",
   "metadata": {},
   "source": [
    "### Non-local means filter"
   ]
  },
  {
   "cell_type": "code",
   "execution_count": 80,
   "metadata": {},
   "outputs": [
    {
     "name": "stdout",
     "output_type": "stream",
     "text": [
      "----- Accuracy: 59.32 % -----\n",
      "Filter: non-local (box size: 3 - only relevant for mean, gaussian and median filters)\n",
      "n_clusters: 300\n"
     ]
    },
    {
     "data": {
      "image/png": "[encoded data removed]",
      "text/plain": [
       "<matplotlib.figure.Figure at 0x25c4e4a8>"
      ]
     },
     "metadata": {},
     "output_type": "display_data"
    }
   ],
   "source": [
    "print(f'----- Accuracy: {accuracy_score(y_test, y_pred) * 100:.2f} % -----')\n",
    "print(f'Filter: {params[\"filter\"]} (box size: {params[\"box_size\"]} - only relevant for mean, gaussian and median filters)')\n",
    "print(f'n_clusters: {params[\"n_clusters\"]}')\n",
    "\n",
    "plot_confusion_matrix(y_test, y_pred, le.classes_)\n",
    "plt.show()"
   ]
  },
  {
   "cell_type": "markdown",
   "metadata": {},
   "source": [
    "### ZCA whitening "
   ]
  },
  {
   "cell_type": "code",
   "execution_count": 89,
   "metadata": {},
   "outputs": [
    {
     "name": "stdout",
     "output_type": "stream",
     "text": [
      "----- Accuracy: 61.02 % -----\n",
      "Filter: whitening (box size: 3 - only relevant for mean, gaussian and median filters)\n",
      "n_clusters: 300\n"
     ]
    },
    {
     "data": {
      "image/png": "[encoded data removed]",
      "text/plain": [
       "<matplotlib.figure.Figure at 0x376d8d30>"
      ]
     },
     "metadata": {},
     "output_type": "display_data"
    }
   ],
   "source": [
    "print(f'----- Accuracy: {accuracy_score(y_test, y_pred) * 100:.2f} % -----')\n",
    "print(f'Filter: {params[\"filter\"]} (box size: {params[\"box_size\"]} - only relevant for mean, gaussian and median filters)')\n",
    "print(f'n_clusters: {params[\"n_clusters\"]}')\n",
    "\n",
    "plot_confusion_matrix(y_test, y_pred, le.classes_)\n",
    "plt.show()"
   ]
  },
  {
   "cell_type": "markdown",
   "metadata": {},
   "source": [
    "### Number of clusters"
   ]
  },
  {
   "cell_type": "code",
   "execution_count": 15,
   "metadata": {
    "scrolled": true
   },
   "outputs": [
    {
     "name": "stdout",
     "output_type": "stream",
     "text": [
      "Starting to test n_clusters = 150\n",
      "Run n°1 - Accuracy: 61.02\n",
      "Run n°2 - Accuracy: 57.63\n",
      "Run n°3 - Accuracy: 58.47\n",
      "Run n°4 - Accuracy: 58.47\n",
      "Run n°5 - Accuracy: 61.86\n",
      "Run n°6 - Accuracy: 55.08\n",
      "Run n°7 - Accuracy: 63.56\n",
      "Run n°8 - Accuracy: 59.32\n",
      "Run n°9 - Accuracy: 61.86\n",
      "Run n°10 - Accuracy: 68.64\n",
      "Starting to test n_clusters = 225\n",
      "Run n°1 - Accuracy: 62.71\n",
      "Run n°2 - Accuracy: 55.08\n",
      "Run n°3 - Accuracy: 64.41\n",
      "Run n°4 - Accuracy: 58.47\n",
      "Run n°5 - Accuracy: 65.25\n",
      "Run n°6 - Accuracy: 59.32\n",
      "Run n°7 - Accuracy: 63.56\n",
      "Run n°8 - Accuracy: 61.02\n",
      "Run n°9 - Accuracy: 58.47\n",
      "Run n°10 - Accuracy: 56.78\n",
      "Starting to test n_clusters = 300\n",
      "Run n°1 - Accuracy: 61.02\n",
      "Run n°2 - Accuracy: 62.71\n",
      "Run n°3 - Accuracy: 66.10\n",
      "Run n°4 - Accuracy: 61.02\n",
      "Run n°5 - Accuracy: 61.86\n",
      "Run n°6 - Accuracy: 63.56\n",
      "Run n°7 - Accuracy: 55.93\n",
      "Run n°8 - Accuracy: 61.02\n",
      "Run n°9 - Accuracy: 55.93\n",
      "Run n°10 - Accuracy: 61.86\n"
     ]
    }
   ],
   "source": [
    "mean_test_score = dict()\n",
    "accuracies = dict()\n",
    "for n_clusters in [150, 225, 300]:\n",
    "    print(f\"Starting to test n_clusters = {n_clusters}\")\n",
    "    params[\"n_clusters\"] = n_clusters\n",
    "    accuracies[n_clusters] = []\n",
    "    for i in range(10):\n",
    "        kmeans = MiniBatchKMeans(n_clusters=params[\"n_clusters\"], batch_size=10000)\n",
    "        kmeans.fit(descriptors)\n",
    "        X_train = pd.DataFrame(columns=range(len(kmeans.cluster_centers_)))\n",
    "        X_test = pd.DataFrame(columns=range(len(kmeans.cluster_centers_)))\n",
    "        for image in images_train:\n",
    "            kp, desc = sift.detectAndCompute(image, None)\n",
    "            labels = kmeans.predict(pd.DataFrame(desc))\n",
    "            unique, counts = np.unique(labels, return_counts=True)\n",
    "            X_train = X_train.append(dict(zip(unique, counts)), ignore_index=True)\n",
    "        for image in images_test:\n",
    "            kp, desc = sift.detectAndCompute(image, None)\n",
    "            labels = kmeans.predict(pd.DataFrame(desc))\n",
    "            unique, counts = np.unique(labels, return_counts=True)\n",
    "            X_test = X_test.append(dict(zip(unique, counts)), ignore_index=True)\n",
    "        X_train.fillna(0, inplace=True)\n",
    "        X_test.fillna(0, inplace=True)\n",
    "        le = LabelEncoder().fit(y_train)\n",
    "        y_train = le.transform(y_train)\n",
    "        y_test = le.transform(y_test)\n",
    "        param_grid = {'C': np.logspace(-10, 10, 21)}\n",
    "        model = GridSearchCV(LogisticRegression(), param_grid, cv=4, scoring='accuracy', verbose=0)\n",
    "        model.fit(X_train, y_train)\n",
    "        y_pred = model.predict(X_test)\n",
    "        print(f\"Run n°{i+1} - Accuracy: {accuracy_score(y_test, y_pred) * 100:.2f}\")\n",
    "        accuracies[n_clusters].append(accuracy_score(y_test, y_pred))\n",
    "    mean_test_score[n_clusters] = np.mean(accuracies[n_clusters])\n",
    "    "
   ]
  },
  {
   "cell_type": "code",
   "execution_count": 16,
   "metadata": {},
   "outputs": [
    {
     "name": "stdout",
     "output_type": "stream",
     "text": [
      "{150: [0.6101694915254238, 0.576271186440678, 0.5847457627118644, 0.5847457627118644, 0.6186440677966102, 0.5508474576271186, 0.635593220338983, 0.5932203389830508, 0.6186440677966102, 0.6864406779661016], 225: [0.6271186440677966, 0.5508474576271186, 0.6440677966101694, 0.5847457627118644, 0.652542372881356, 0.5932203389830508, 0.635593220338983, 0.6101694915254238, 0.5847457627118644, 0.5677966101694916], 300: [0.6101694915254238, 0.6271186440677966, 0.6610169491525424, 0.6101694915254238, 0.6186440677966102, 0.635593220338983, 0.559322033898305, 0.6101694915254238, 0.559322033898305, 0.6186440677966102]}\n",
      "\n",
      " {150: 0.6059322033898304, 225: 0.6050847457627119, 300: 0.6110169491525423}\n"
     ]
    }
   ],
   "source": [
    "print(accuracies)\n",
    "print(\"\\n\", mean_test_score)"
   ]
  },
  {
   "cell_type": "code",
   "execution_count": 17,
   "metadata": {
    "scrolled": true
   },
   "outputs": [
    {
     "name": "stdout",
     "output_type": "stream",
     "text": [
      "Starting to test n_clusters = 300\n",
      "Run n°1 - Accuracy: 57.63\n",
      "Run n°2 - Accuracy: 57.63\n",
      "Run n°3 - Accuracy: 58.47\n",
      "Run n°4 - Accuracy: 58.47\n",
      "Run n°5 - Accuracy: 63.56\n",
      "Run n°6 - Accuracy: 61.02\n",
      "Run n°7 - Accuracy: 59.32\n",
      "Run n°8 - Accuracy: 55.93\n",
      "Run n°9 - Accuracy: 64.41\n",
      "Run n°10 - Accuracy: 57.63\n",
      "Starting to test n_clusters = 375\n",
      "Run n°1 - Accuracy: 64.41\n",
      "Run n°2 - Accuracy: 61.86\n",
      "Run n°3 - Accuracy: 63.56\n",
      "Run n°4 - Accuracy: 60.17\n",
      "Run n°5 - Accuracy: 56.78\n",
      "Run n°6 - Accuracy: 61.02\n",
      "Run n°7 - Accuracy: 60.17\n",
      "Run n°8 - Accuracy: 61.86\n",
      "Run n°9 - Accuracy: 57.63\n",
      "Run n°10 - Accuracy: 65.25\n",
      "Starting to test n_clusters = 450\n",
      "Run n°1 - Accuracy: 61.86\n",
      "Run n°2 - Accuracy: 61.86\n",
      "Run n°3 - Accuracy: 65.25\n",
      "Run n°4 - Accuracy: 61.02\n",
      "Run n°5 - Accuracy: 65.25\n",
      "Run n°6 - Accuracy: 61.86\n",
      "Run n°7 - Accuracy: 66.10\n",
      "Run n°8 - Accuracy: 58.47\n",
      "Run n°9 - Accuracy: 61.86\n",
      "Run n°10 - Accuracy: 60.17\n"
     ]
    }
   ],
   "source": [
    "mean_test_score = dict()\n",
    "accuracies = dict()\n",
    "for n_clusters in [300, 375, 450]:\n",
    "    print(f\"Starting to test n_clusters = {n_clusters}\")\n",
    "    params[\"n_clusters\"] = n_clusters\n",
    "    accuracies[n_clusters] = []\n",
    "    for i in range(10):\n",
    "        kmeans = MiniBatchKMeans(n_clusters=params[\"n_clusters\"], batch_size=10000)\n",
    "        kmeans.fit(descriptors)\n",
    "        X_train = pd.DataFrame(columns=range(len(kmeans.cluster_centers_)))\n",
    "        X_test = pd.DataFrame(columns=range(len(kmeans.cluster_centers_)))\n",
    "        for image in images_train:\n",
    "            kp, desc = sift.detectAndCompute(image, None)\n",
    "            labels = kmeans.predict(pd.DataFrame(desc))\n",
    "            unique, counts = np.unique(labels, return_counts=True)\n",
    "            X_train = X_train.append(dict(zip(unique, counts)), ignore_index=True)\n",
    "        for image in images_test:\n",
    "            kp, desc = sift.detectAndCompute(image, None)\n",
    "            labels = kmeans.predict(pd.DataFrame(desc))\n",
    "            unique, counts = np.unique(labels, return_counts=True)\n",
    "            X_test = X_test.append(dict(zip(unique, counts)), ignore_index=True)\n",
    "        X_train.fillna(0, inplace=True)\n",
    "        X_test.fillna(0, inplace=True)\n",
    "        le = LabelEncoder().fit(y_train)\n",
    "        y_train = le.transform(y_train)\n",
    "        y_test = le.transform(y_test)\n",
    "        param_grid = {'C': np.logspace(-10, 10, 21)}\n",
    "        model = GridSearchCV(LogisticRegression(), param_grid, cv=4, scoring='accuracy', verbose=0)\n",
    "        model.fit(X_train, y_train)\n",
    "        y_pred = model.predict(X_test)\n",
    "        print(f\"Run n°{i+1} - Accuracy: {accuracy_score(y_test, y_pred) * 100:.2f}\")\n",
    "        accuracies[n_clusters].append(accuracy_score(y_test, y_pred))\n",
    "    mean_test_score[n_clusters] = np.mean(accuracies[n_clusters])\n",
    "    "
   ]
  },
  {
   "cell_type": "code",
   "execution_count": 18,
   "metadata": {
    "scrolled": true
   },
   "outputs": [
    {
     "name": "stdout",
     "output_type": "stream",
     "text": [
      "{300: [0.576271186440678, 0.576271186440678, 0.5847457627118644, 0.5847457627118644, 0.635593220338983, 0.6101694915254238, 0.5932203389830508, 0.559322033898305, 0.6440677966101694, 0.576271186440678], 375: [0.6440677966101694, 0.6186440677966102, 0.635593220338983, 0.6016949152542372, 0.5677966101694916, 0.6101694915254238, 0.6016949152542372, 0.6186440677966102, 0.576271186440678, 0.652542372881356], 450: [0.6186440677966102, 0.6186440677966102, 0.652542372881356, 0.6101694915254238, 0.652542372881356, 0.6186440677966102, 0.6610169491525424, 0.5847457627118644, 0.6186440677966102, 0.6016949152542372]}\n",
      "\n",
      " {300: 0.5940677966101695, 375: 0.6127118644067797, 450: 0.623728813559322}\n"
     ]
    }
   ],
   "source": [
    "print(accuracies)\n",
    "print(\"\\n\", mean_test_score)"
   ]
  },
  {
   "cell_type": "code",
   "execution_count": 19,
   "metadata": {
    "scrolled": true
   },
   "outputs": [
    {
     "name": "stdout",
     "output_type": "stream",
     "text": [
      "Starting to test n_clusters = 450\n",
      "Run n°1 - Accuracy: 68.64\n",
      "Run n°2 - Accuracy: 61.86\n",
      "Run n°3 - Accuracy: 61.02\n",
      "Run n°4 - Accuracy: 56.78\n",
      "Run n°5 - Accuracy: 61.86\n",
      "Run n°6 - Accuracy: 62.71\n",
      "Run n°7 - Accuracy: 56.78\n",
      "Run n°8 - Accuracy: 61.86\n",
      "Run n°9 - Accuracy: 64.41\n",
      "Run n°10 - Accuracy: 60.17\n",
      "Starting to test n_clusters = 600\n",
      "Run n°1 - Accuracy: 63.56\n",
      "Run n°2 - Accuracy: 60.17\n",
      "Run n°3 - Accuracy: 72.03\n",
      "Run n°4 - Accuracy: 59.32\n",
      "Run n°5 - Accuracy: 65.25\n",
      "Run n°6 - Accuracy: 61.86\n",
      "Run n°7 - Accuracy: 60.17\n",
      "Run n°8 - Accuracy: 61.02\n",
      "Run n°9 - Accuracy: 59.32\n",
      "Run n°10 - Accuracy: 60.17\n"
     ]
    }
   ],
   "source": [
    "mean_test_score = dict()\n",
    "accuracies = dict()\n",
    "for n_clusters in [450, 600]:\n",
    "    print(f\"Starting to test n_clusters = {n_clusters}\")\n",
    "    params[\"n_clusters\"] = n_clusters\n",
    "    accuracies[n_clusters] = []\n",
    "    for i in range(10):\n",
    "        kmeans = MiniBatchKMeans(n_clusters=params[\"n_clusters\"], batch_size=10000)\n",
    "        kmeans.fit(descriptors)\n",
    "        X_train = pd.DataFrame(columns=range(len(kmeans.cluster_centers_)))\n",
    "        X_test = pd.DataFrame(columns=range(len(kmeans.cluster_centers_)))\n",
    "        for image in images_train:\n",
    "            kp, desc = sift.detectAndCompute(image, None)\n",
    "            labels = kmeans.predict(pd.DataFrame(desc))\n",
    "            unique, counts = np.unique(labels, return_counts=True)\n",
    "            X_train = X_train.append(dict(zip(unique, counts)), ignore_index=True)\n",
    "        for image in images_test:\n",
    "            kp, desc = sift.detectAndCompute(image, None)\n",
    "            labels = kmeans.predict(pd.DataFrame(desc))\n",
    "            unique, counts = np.unique(labels, return_counts=True)\n",
    "            X_test = X_test.append(dict(zip(unique, counts)), ignore_index=True)\n",
    "        X_train.fillna(0, inplace=True)\n",
    "        X_test.fillna(0, inplace=True)\n",
    "        le = LabelEncoder().fit(y_train)\n",
    "        y_train = le.transform(y_train)\n",
    "        y_test = le.transform(y_test)\n",
    "        param_grid = {'C': np.logspace(-10, 10, 21)}\n",
    "        model = GridSearchCV(LogisticRegression(), param_grid, cv=4, scoring='accuracy', verbose=0)\n",
    "        model.fit(X_train, y_train)\n",
    "        y_pred = model.predict(X_test)\n",
    "        print(f\"Run n°{i+1} - Accuracy: {accuracy_score(y_test, y_pred) * 100:.2f}\")\n",
    "        accuracies[n_clusters].append(accuracy_score(y_test, y_pred))\n",
    "    mean_test_score[n_clusters] = np.mean(accuracies[n_clusters])\n",
    "    "
   ]
  },
  {
   "cell_type": "code",
   "execution_count": 20,
   "metadata": {
    "scrolled": true
   },
   "outputs": [
    {
     "name": "stdout",
     "output_type": "stream",
     "text": [
      "{450: [0.6864406779661016, 0.6186440677966102, 0.6101694915254238, 0.5677966101694916, 0.6186440677966102, 0.6271186440677966, 0.5677966101694916, 0.6186440677966102, 0.6440677966101694, 0.6016949152542372], 600: [0.635593220338983, 0.6016949152542372, 0.7203389830508474, 0.5932203389830508, 0.652542372881356, 0.6186440677966102, 0.6016949152542372, 0.6101694915254238, 0.5932203389830508, 0.6016949152542372]}\n",
      "\n",
      " {450: 0.6161016949152542, 600: 0.6228813559322034}\n"
     ]
    }
   ],
   "source": [
    "print(accuracies)\n",
    "print(\"\\n\", mean_test_score)"
   ]
  },
  {
   "cell_type": "code",
   "execution_count": 21,
   "metadata": {
    "scrolled": true
   },
   "outputs": [
    {
     "name": "stdout",
     "output_type": "stream",
     "text": [
      "Starting to test n_clusters = 750\n",
      "Run n°1 - Accuracy: 66.10\n",
      "Run n°2 - Accuracy: 60.17\n",
      "Run n°3 - Accuracy: 61.02\n",
      "Run n°4 - Accuracy: 62.71\n",
      "Run n°5 - Accuracy: 60.17\n",
      "Run n°6 - Accuracy: 61.86\n",
      "Run n°7 - Accuracy: 63.56\n",
      "Run n°8 - Accuracy: 66.10\n",
      "Run n°9 - Accuracy: 63.56\n",
      "Run n°10 - Accuracy: 61.02\n"
     ]
    }
   ],
   "source": [
    "mean_test_score = dict()\n",
    "accuracies = dict()\n",
    "for n_clusters in [750,]:\n",
    "    print(f\"Starting to test n_clusters = {n_clusters}\")\n",
    "    params[\"n_clusters\"] = n_clusters\n",
    "    accuracies[n_clusters] = []\n",
    "    for i in range(10):\n",
    "        kmeans = MiniBatchKMeans(n_clusters=params[\"n_clusters\"], batch_size=10000)\n",
    "        kmeans.fit(descriptors)\n",
    "        X_train = pd.DataFrame(columns=range(len(kmeans.cluster_centers_)))\n",
    "        X_test = pd.DataFrame(columns=range(len(kmeans.cluster_centers_)))\n",
    "        for image in images_train:\n",
    "            kp, desc = sift.detectAndCompute(image, None)\n",
    "            labels = kmeans.predict(pd.DataFrame(desc))\n",
    "            unique, counts = np.unique(labels, return_counts=True)\n",
    "            X_train = X_train.append(dict(zip(unique, counts)), ignore_index=True)\n",
    "        for image in images_test:\n",
    "            kp, desc = sift.detectAndCompute(image, None)\n",
    "            labels = kmeans.predict(pd.DataFrame(desc))\n",
    "            unique, counts = np.unique(labels, return_counts=True)\n",
    "            X_test = X_test.append(dict(zip(unique, counts)), ignore_index=True)\n",
    "        X_train.fillna(0, inplace=True)\n",
    "        X_test.fillna(0, inplace=True)\n",
    "        le = LabelEncoder().fit(y_train)\n",
    "        y_train = le.transform(y_train)\n",
    "        y_test = le.transform(y_test)\n",
    "        param_grid = {'C': np.logspace(-10, 10, 21)}\n",
    "        model = GridSearchCV(LogisticRegression(), param_grid, cv=4, scoring='accuracy', verbose=0)\n",
    "        model.fit(X_train, y_train)\n",
    "        y_pred = model.predict(X_test)\n",
    "        print(f\"Run n°{i+1} - Accuracy: {accuracy_score(y_test, y_pred) * 100:.2f}\")\n",
    "        accuracies[n_clusters].append(accuracy_score(y_test, y_pred))\n",
    "    mean_test_score[n_clusters] = np.mean(accuracies[n_clusters])\n",
    "    "
   ]
  },
  {
   "cell_type": "code",
   "execution_count": 22,
   "metadata": {
    "scrolled": true
   },
   "outputs": [
    {
     "name": "stdout",
     "output_type": "stream",
     "text": [
      "{750: [0.6610169491525424, 0.6016949152542372, 0.6101694915254238, 0.6271186440677966, 0.6016949152542372, 0.6186440677966102, 0.635593220338983, 0.6610169491525424, 0.635593220338983, 0.6101694915254238]}\n",
      "\n",
      " {750: 0.6262711864406779}\n"
     ]
    }
   ],
   "source": [
    "print(accuracies)\n",
    "print(\"\\n\", mean_test_score)"
   ]
  }
 ],
 "metadata": {
  "kernelspec": {
   "display_name": "Python 3",
   "language": "python",
   "name": "python3"
  },
  "language_info": {
   "codemirror_mode": {
    "name": "ipython",
    "version": 3
   },
   "file_extension": ".py",
   "mimetype": "text/x-python",
   "name": "python",
   "nbconvert_exporter": "python",
   "pygments_lexer": "ipython3",
   "version": "3.6.1"
  }
 },
 "nbformat": 4,
 "nbformat_minor": 2
}
