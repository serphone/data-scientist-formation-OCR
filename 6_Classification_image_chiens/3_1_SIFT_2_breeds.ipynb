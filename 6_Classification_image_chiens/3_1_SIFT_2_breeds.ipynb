{
 "cells": [
  {
   "cell_type": "markdown",
   "metadata": {},
   "source": [
    "## Imports"
   ]
  },
  {
   "cell_type": "code",
   "execution_count": 1,
   "metadata": {},
   "outputs": [],
   "source": [
    "import cv2\n",
    "import numpy as np\n",
    "import pandas as pd\n",
    "import matplotlib.pyplot as plt\n",
    "\n",
    "from sklearn.model_selection import train_test_split, GridSearchCV\n",
    "from sklearn.preprocessing import LabelEncoder, normalize\n",
    "from sklearn.cluster import MiniBatchKMeans\n",
    "from sklearn.linear_model import LogisticRegression\n",
    "from sklearn.metrics import accuracy_score\n",
    "\n",
    "from utils import load_images, plot_confusion_matrix"
   ]
  },
  {
   "cell_type": "markdown",
   "metadata": {},
   "source": [
    "## Parameters"
   ]
  },
  {
   "cell_type": "code",
   "execution_count": 187,
   "metadata": {},
   "outputs": [],
   "source": [
    "N_BREEDS = 2\n",
    "STD_SIZE = (500, 375)\n",
    "\n",
    "ENVIRONNEMENT = 'local'\n",
    "if ENVIRONNEMENT == 'colab':\n",
    "    PATH = '/content/gdrive/My Drive/Colab Notebooks/Data/'\n",
    "else:\n",
    "    PATH = 'images/'\n",
    "\n",
    "params = {\n",
    "    'filter': None,\n",
    "    'box_size': 3,  # Used only with mean, gaussian and median filter\n",
    "    'n_clusters': 75*N_BREEDS,\n",
    "}"
   ]
  },
  {
   "cell_type": "markdown",
   "metadata": {},
   "source": [
    "## Load images"
   ]
  },
  {
   "cell_type": "code",
   "execution_count": 115,
   "metadata": {},
   "outputs": [
    {
     "name": "stdout",
     "output_type": "stream",
     "text": [
      "Loaded 1/2: 152 images for breed: Chihuahua\n",
      "Loaded 2/2: 185 images for breed: Japanese_spaniel\n"
     ]
    }
   ],
   "source": [
    "images_orig, y = load_images(PATH, N_BREEDS, STD_SIZE)"
   ]
  },
  {
   "cell_type": "markdown",
   "metadata": {},
   "source": [
    "## Apply filter"
   ]
  },
  {
   "cell_type": "code",
   "execution_count": 188,
   "metadata": {},
   "outputs": [
    {
     "name": "stdout",
     "output_type": "stream",
     "text": [
      "Images pre-processed with None filter\n"
     ]
    }
   ],
   "source": [
    "images = np.array(images_orig)\n",
    "if params['filter'] == 'equalize':\n",
    "    images = [cv2.equalizeHist(img) for img in images]\n",
    "if params['filter'] == 'mean':\n",
    "    images = [cv2.blur(img, (params['box_size'], params['box_size'])) for img in images]\n",
    "if params['filter'] == 'gaussian':\n",
    "    images = [cv2.GaussianBlur(img, (params['box_size'], params['box_size']), 0) for img in images]\n",
    "if params['filter'] == 'median':\n",
    "    images = [cv2.medianBlur(img, params['box_size']) for img in images]\n",
    "if params['filter'] == 'non-local':\n",
    "    images = [cv2.fastNlMeansDenoising(img) for img in images]\n",
    "if params['filter'] == 'whitening':   \n",
    "    images = np.array(images_orig)\n",
    "    images_temp = images.reshape(images.shape[0], -1)\n",
    "    images_temp = images_temp - images_temp.mean(axis=0)\n",
    "    cov = np.cov(images_temp, rowvar=True)\n",
    "    U, S, V = np.linalg.svd(cov)\n",
    "    epsilon = 1e-1\n",
    "    images_ZCA = np.dot(np.dot(U, np.dot(np.diag(1.0 / np.sqrt(S + epsilon)), U.T)), images_temp)\n",
    "    images_ZCA_rescaled = 255 * (images_ZCA - images_ZCA.min()) / (images_ZCA.max() - images_ZCA.min())\n",
    "    images = images_ZCA_rescaled.reshape(images.shape[0], 375, 500).astype('uint8') \n",
    "images = np.array(images)\n",
    "print(f\"Images pre-processed with {params['filter']} filter\")"
   ]
  },
  {
   "cell_type": "markdown",
   "metadata": {},
   "source": [
    "## Train/test split"
   ]
  },
  {
   "cell_type": "code",
   "execution_count": 189,
   "metadata": {},
   "outputs": [],
   "source": [
    "images_train, images_test, y_train, y_test = train_test_split(images, y, test_size=0.20, stratify=y, random_state=0)"
   ]
  },
  {
   "cell_type": "markdown",
   "metadata": {},
   "source": [
    "## Extract SIFT features"
   ]
  },
  {
   "cell_type": "code",
   "execution_count": 190,
   "metadata": {},
   "outputs": [
    {
     "name": "stdout",
     "output_type": "stream",
     "text": [
      "272515 SIFT descriptors detected over 269 images\n"
     ]
    }
   ],
   "source": [
    "sift = cv2.xfeatures2d_SIFT.create()\n",
    "descriptors = []\n",
    "for image in images_train:\n",
    "    kp, desc = sift.detectAndCompute(image, None)\n",
    "    descriptors.extend([x for x in desc])\n",
    "print(f'{len(descriptors)} SIFT descriptors detected over {images_train.shape[0]} images')"
   ]
  },
  {
   "cell_type": "markdown",
   "metadata": {},
   "source": [
    "## KMeans clustering"
   ]
  },
  {
   "cell_type": "code",
   "execution_count": 191,
   "metadata": {},
   "outputs": [
    {
     "name": "stdout",
     "output_type": "stream",
     "text": [
      "KMeans clustering with 150 clusters\n"
     ]
    }
   ],
   "source": [
    "kmeans = MiniBatchKMeans(n_clusters=params['n_clusters'], batch_size=10000, random_state=0)\n",
    "kmeans.fit(descriptors)\n",
    "print(f'KMeans clustering with {params[\"n_clusters\"]} clusters')"
   ]
  },
  {
   "cell_type": "markdown",
   "metadata": {},
   "source": [
    "## Inputs"
   ]
  },
  {
   "cell_type": "code",
   "execution_count": 192,
   "metadata": {},
   "outputs": [],
   "source": [
    "X_train = pd.DataFrame(columns=range(len(kmeans.cluster_centers_)))\n",
    "X_test = pd.DataFrame(columns=range(len(kmeans.cluster_centers_)))\n",
    "for image in images_train:\n",
    "    kp, desc = sift.detectAndCompute(image, None)\n",
    "    labels = kmeans.predict(pd.DataFrame(desc))\n",
    "    unique, counts = np.unique(labels, return_counts=True)\n",
    "    X_train = X_train.append(dict(zip(unique, counts)), ignore_index=True)\n",
    "for image in images_test:\n",
    "    kp, desc = sift.detectAndCompute(image, None)\n",
    "    labels = kmeans.predict(pd.DataFrame(desc))\n",
    "    unique, counts = np.unique(labels, return_counts=True)\n",
    "    X_test = X_test.append(dict(zip(unique, counts)), ignore_index=True)\n",
    "\n",
    "X_train.fillna(0, inplace=True)\n",
    "X_test.fillna(0, inplace=True)"
   ]
  },
  {
   "cell_type": "markdown",
   "metadata": {},
   "source": [
    "## Output"
   ]
  },
  {
   "cell_type": "code",
   "execution_count": 193,
   "metadata": {},
   "outputs": [],
   "source": [
    "le = LabelEncoder().fit(y_train)\n",
    "y_train = le.transform(y_train)\n",
    "y_test = le.transform(y_test)"
   ]
  },
  {
   "cell_type": "markdown",
   "metadata": {},
   "source": [
    "## Train classifier (CV)"
   ]
  },
  {
   "cell_type": "code",
   "execution_count": 194,
   "metadata": {
    "scrolled": true
   },
   "outputs": [
    {
     "name": "stdout",
     "output_type": "stream",
     "text": [
      "Fitting 4 folds for each of 21 candidates, totalling 84 fits\n"
     ]
    },
    {
     "name": "stderr",
     "output_type": "stream",
     "text": [
      "[Parallel(n_jobs=1)]: Done  84 out of  84 | elapsed:    0.5s finished\n"
     ]
    },
    {
     "data": {
      "image/png": "[encoded data removed]",
      "text/plain": [
       "<matplotlib.figure.Figure at 0x46766160>"
      ]
     },
     "metadata": {},
     "output_type": "display_data"
    }
   ],
   "source": [
    "param_grid = {'C': np.logspace(-10, 10, 21)}\n",
    "model = GridSearchCV(LogisticRegression(), param_grid, cv=4, scoring='accuracy', verbose=1)\n",
    "model.fit(X_train, y_train)\n",
    "\n",
    "plt.semilogx(model.param_grid['C'], model.cv_results_['mean_test_score'])\n",
    "plt.ylabel('Accuracy')\n",
    "plt.xlabel('C')\n",
    "plt.show()\n",
    "\n",
    "y_pred = model.predict(X_test)"
   ]
  },
  {
   "cell_type": "markdown",
   "metadata": {},
   "source": [
    "## Results"
   ]
  },
  {
   "cell_type": "markdown",
   "metadata": {},
   "source": [
    "### Baseline"
   ]
  },
  {
   "cell_type": "code",
   "execution_count": 68,
   "metadata": {},
   "outputs": [
    {
     "name": "stdout",
     "output_type": "stream",
     "text": [
      "----- Accuracy: 75.00 % -----\n",
      "Filter: None (box size: 9 - only relevant for mean, gaussian and median filters)\n",
      "Normalization: False\n",
      "n_clusters: 150\n"
     ]
    },
    {
     "data": {
      "image/png": "[encoded data removed]",
      "text/plain": [
       "<matplotlib.figure.Figure at 0x4677deb8>"
      ]
     },
     "metadata": {},
     "output_type": "display_data"
    }
   ],
   "source": [
    "print(f'----- Accuracy: {accuracy_score(y_test, y_pred) * 100:.2f} % -----')\n",
    "print(f'Filter: {params[\"filter\"]} (box size: {params[\"box_size\"]} - only relevant for mean, gaussian and median filters)')\n",
    "print(f'Normalization: {params[\"normalization\"]}')\n",
    "print(f'n_clusters: {params[\"n_clusters\"]}')\n",
    "\n",
    "plot_confusion_matrix(y_test, y_pred, le.classes_)\n",
    "plt.show()"
   ]
  },
  {
   "cell_type": "markdown",
   "metadata": {},
   "source": [
    "### Equalization"
   ]
  },
  {
   "cell_type": "code",
   "execution_count": 77,
   "metadata": {},
   "outputs": [
    {
     "name": "stdout",
     "output_type": "stream",
     "text": [
      "----- Accuracy: 72.06 % -----\n",
      "Filter: equalize (box size: 9 - only relevant for mean, gaussian and median filters)\n",
      "Normalization: False\n",
      "n_clusters: 150\n"
     ]
    },
    {
     "data": {
      "image/png": "[encoded data removed]",
      "text/plain": [
       "<matplotlib.figure.Figure at 0x467079b0>"
      ]
     },
     "metadata": {},
     "output_type": "display_data"
    }
   ],
   "source": [
    "print(f'----- Accuracy: {accuracy_score(y_test, y_pred) * 100:.2f} % -----')\n",
    "print(f'Filter: {params[\"filter\"]} (box size: {params[\"box_size\"]} - only relevant for mean, gaussian and median filters)')\n",
    "print(f'Normalization: {params[\"normalization\"]}')\n",
    "print(f'n_clusters: {params[\"n_clusters\"]}')\n",
    "\n",
    "plot_confusion_matrix(y_test, y_pred, le.classes_)\n",
    "plt.show()"
   ]
  },
  {
   "cell_type": "markdown",
   "metadata": {},
   "source": [
    "### Averaging"
   ]
  },
  {
   "cell_type": "code",
   "execution_count": 113,
   "metadata": {},
   "outputs": [
    {
     "name": "stdout",
     "output_type": "stream",
     "text": [
      "----- Accuracy: 73.53 % -----\n",
      "Filter: mean (box size: 5 - only relevant for mean, gaussian and median filters)\n",
      "Normalization: False\n",
      "n_clusters: 150\n"
     ]
    },
    {
     "data": {
      "image/png": "[encoded data removed]",
      "text/plain": [
       "<matplotlib.figure.Figure at 0x44fcdfd0>"
      ]
     },
     "metadata": {},
     "output_type": "display_data"
    }
   ],
   "source": [
    "print(f'----- Accuracy: {accuracy_score(y_test, y_pred) * 100:.2f} % -----')\n",
    "print(f'Filter: {params[\"filter\"]} (box size: {params[\"box_size\"]} - only relevant for mean, gaussian and median filters)')\n",
    "print(f'Normalization: {params[\"normalization\"]}')\n",
    "print(f'n_clusters: {params[\"n_clusters\"]}')\n",
    "\n",
    "plot_confusion_matrix(y_test, y_pred, le.classes_)\n",
    "plt.show()"
   ]
  },
  {
   "cell_type": "markdown",
   "metadata": {},
   "source": [
    "### Gaussian filter"
   ]
  },
  {
   "cell_type": "code",
   "execution_count": 141,
   "metadata": {},
   "outputs": [
    {
     "name": "stdout",
     "output_type": "stream",
     "text": [
      "----- Accuracy: 70.59 % -----\n",
      "Filter: gaussian (box size: 3 - only relevant for mean, gaussian and median filters)\n",
      "Normalization: False\n",
      "n_clusters: 150\n"
     ]
    },
    {
     "data": {
      "image/png": "[encoded data removed]",
      "text/plain": [
       "<matplotlib.figure.Figure at 0x44e9b518>"
      ]
     },
     "metadata": {},
     "output_type": "display_data"
    }
   ],
   "source": [
    "print(f'----- Accuracy: {accuracy_score(y_test, y_pred) * 100:.2f} % -----')\n",
    "print(f'Filter: {params[\"filter\"]} (box size: {params[\"box_size\"]} - only relevant for mean, gaussian and median filters)')\n",
    "print(f'Normalization: {params[\"normalization\"]}')\n",
    "print(f'n_clusters: {params[\"n_clusters\"]}')\n",
    "\n",
    "plot_confusion_matrix(y_test, y_pred, le.classes_)\n",
    "plt.show()"
   ]
  },
  {
   "cell_type": "markdown",
   "metadata": {},
   "source": [
    "### Median filter"
   ]
  },
  {
   "cell_type": "code",
   "execution_count": 168,
   "metadata": {},
   "outputs": [
    {
     "name": "stdout",
     "output_type": "stream",
     "text": [
      "----- Accuracy: 67.65 % -----\n",
      "Filter: median (box size: 3 - only relevant for mean, gaussian and median filters)\n",
      "Normalization: False\n",
      "n_clusters: 150\n"
     ]
    },
    {
     "data": {
      "image/png": "[encoded data removed]",
      "text/plain": [
       "<matplotlib.figure.Figure at 0x22fdc0f0>"
      ]
     },
     "metadata": {},
     "output_type": "display_data"
    }
   ],
   "source": [
    "print(f'----- Accuracy: {accuracy_score(y_test, y_pred) * 100:.2f} % -----')\n",
    "print(f'Filter: {params[\"filter\"]} (box size: {params[\"box_size\"]} - only relevant for mean, gaussian and median filters)')\n",
    "print(f'Normalization: {params[\"normalization\"]}')\n",
    "print(f'n_clusters: {params[\"n_clusters\"]}')\n",
    "\n",
    "plot_confusion_matrix(y_test, y_pred, le.classes_)\n",
    "plt.show()"
   ]
  },
  {
   "cell_type": "markdown",
   "metadata": {},
   "source": [
    "### Non-local means filter"
   ]
  },
  {
   "cell_type": "code",
   "execution_count": 86,
   "metadata": {},
   "outputs": [
    {
     "name": "stdout",
     "output_type": "stream",
     "text": [
      "----- Accuracy: 70.59 % -----\n",
      "Filter: non-local (box size: 9 - only relevant for mean, gaussian and median filters)\n",
      "Normalization: False\n",
      "n_clusters: 150\n"
     ]
    },
    {
     "data": {
      "image/png": "[encoded data removed]",
      "text/plain": [
       "<matplotlib.figure.Figure at 0x2e357940>"
      ]
     },
     "metadata": {},
     "output_type": "display_data"
    }
   ],
   "source": [
    "print(f'----- Accuracy: {accuracy_score(y_test, y_pred) * 100:.2f} % -----')\n",
    "print(f'Filter: {params[\"filter\"]} (box size: {params[\"box_size\"]} - only relevant for mean, gaussian and median filters)')\n",
    "print(f'Normalization: {params[\"normalization\"]}')\n",
    "print(f'n_clusters: {params[\"n_clusters\"]}')\n",
    "\n",
    "plot_confusion_matrix(y_test, y_pred, le.classes_)\n",
    "plt.show()"
   ]
  },
  {
   "cell_type": "markdown",
   "metadata": {},
   "source": [
    "### ZCA whitening "
   ]
  },
  {
   "cell_type": "code",
   "execution_count": 95,
   "metadata": {},
   "outputs": [
    {
     "name": "stdout",
     "output_type": "stream",
     "text": [
      "----- Accuracy: 58.82 % -----\n",
      "Filter: whitening (box size: 9 - only relevant for mean, gaussian and median filters)\n",
      "Normalization: False\n",
      "n_clusters: 150\n"
     ]
    },
    {
     "data": {
      "image/png": "[encoded data removed]",
      "text/plain": [
       "<matplotlib.figure.Figure at 0x304c0710>"
      ]
     },
     "metadata": {},
     "output_type": "display_data"
    }
   ],
   "source": [
    "print(f'----- Accuracy: {accuracy_score(y_test, y_pred) * 100:.2f} % -----')\n",
    "print(f'Filter: {params[\"filter\"]} (box size: {params[\"box_size\"]} - only relevant for mean, gaussian and median filters)')\n",
    "print(f'Normalization: {params[\"normalization\"]}')\n",
    "print(f'n_clusters: {params[\"n_clusters\"]}')\n",
    "\n",
    "plot_confusion_matrix(y_test, y_pred, le.classes_)\n",
    "plt.show()"
   ]
  },
  {
   "cell_type": "markdown",
   "metadata": {},
   "source": [
    "### Number of clusters"
   ]
  },
  {
   "cell_type": "code",
   "execution_count": 39,
   "metadata": {
    "scrolled": true
   },
   "outputs": [
    {
     "name": "stdout",
     "output_type": "stream",
     "text": [
      "Starting to test n_clusters = 10\n",
      "Run n°1 - Accuracy: 54.41\n",
      "Run n°2 - Accuracy: 61.76\n",
      "Run n°3 - Accuracy: 58.82\n",
      "Run n°4 - Accuracy: 70.59\n",
      "Run n°5 - Accuracy: 63.24\n",
      "Run n°6 - Accuracy: 54.41\n",
      "Run n°7 - Accuracy: 63.24\n",
      "Run n°8 - Accuracy: 72.06\n",
      "Run n°9 - Accuracy: 69.12\n",
      "Run n°10 - Accuracy: 61.76\n",
      "Starting to test n_clusters = 20\n",
      "Run n°1 - Accuracy: 63.24\n",
      "Run n°2 - Accuracy: 67.65\n",
      "Run n°3 - Accuracy: 64.71\n",
      "Run n°4 - Accuracy: 73.53\n",
      "Run n°5 - Accuracy: 69.12\n",
      "Run n°6 - Accuracy: 61.76\n",
      "Run n°7 - Accuracy: 64.71\n",
      "Run n°8 - Accuracy: 64.71\n",
      "Run n°9 - Accuracy: 73.53\n",
      "Run n°10 - Accuracy: 61.76\n",
      "Starting to test n_clusters = 50\n",
      "Run n°1 - Accuracy: 66.18\n",
      "Run n°2 - Accuracy: 73.53\n",
      "Run n°3 - Accuracy: 66.18\n",
      "Run n°4 - Accuracy: 70.59\n",
      "Run n°5 - Accuracy: 69.12\n",
      "Run n°6 - Accuracy: 69.12\n",
      "Run n°7 - Accuracy: 67.65\n",
      "Run n°8 - Accuracy: 64.71\n",
      "Run n°9 - Accuracy: 72.06\n",
      "Run n°10 - Accuracy: 61.76\n",
      "Starting to test n_clusters = 100\n",
      "Run n°1 - Accuracy: 67.65\n",
      "Run n°2 - Accuracy: 73.53\n",
      "Run n°3 - Accuracy: 70.59\n",
      "Run n°4 - Accuracy: 83.82\n",
      "Run n°5 - Accuracy: 67.65\n",
      "Run n°6 - Accuracy: 70.59\n",
      "Run n°7 - Accuracy: 67.65\n",
      "Run n°8 - Accuracy: 70.59\n",
      "Run n°9 - Accuracy: 66.18\n",
      "Run n°10 - Accuracy: 75.00\n"
     ]
    }
   ],
   "source": [
    "mean_test_score = dict()\n",
    "accuracies = dict()\n",
    "for n_clusters in [10, 20, 50, 100]:\n",
    "    print(f\"Starting to test n_clusters = {n_clusters}\")\n",
    "    params[\"n_clusters\"] = n_clusters\n",
    "    accuracies[n_clusters] = []\n",
    "    for i in range(10):\n",
    "        kmeans = MiniBatchKMeans(n_clusters=params[\"n_clusters\"], batch_size=10000)\n",
    "        kmeans.fit(descriptors)\n",
    "        X_train = pd.DataFrame(columns=range(len(kmeans.cluster_centers_)))\n",
    "        X_test = pd.DataFrame(columns=range(len(kmeans.cluster_centers_)))\n",
    "        for image in images_train:\n",
    "            kp, desc = sift.detectAndCompute(image, None)\n",
    "            labels = kmeans.predict(pd.DataFrame(desc))\n",
    "            unique, counts = np.unique(labels, return_counts=True)\n",
    "            X_train = X_train.append(dict(zip(unique, counts)), ignore_index=True)\n",
    "        for image in images_test:\n",
    "            kp, desc = sift.detectAndCompute(image, None)\n",
    "            labels = kmeans.predict(pd.DataFrame(desc))\n",
    "            unique, counts = np.unique(labels, return_counts=True)\n",
    "            X_test = X_test.append(dict(zip(unique, counts)), ignore_index=True)\n",
    "        X_train.fillna(0, inplace=True)\n",
    "        X_test.fillna(0, inplace=True)\n",
    "        le = LabelEncoder().fit(y_train)\n",
    "        y_train = le.transform(y_train)\n",
    "        y_test = le.transform(y_test)\n",
    "        param_grid = {'C': np.logspace(-10, 10, 21)}\n",
    "        model = GridSearchCV(LogisticRegression(), param_grid, cv=4, scoring='accuracy', verbose=0)\n",
    "        model.fit(X_train, y_train)\n",
    "        y_pred = model.predict(X_test)\n",
    "        print(f\"Run n°{i+1} - Accuracy: {accuracy_score(y_test, y_pred) * 100:.2f}\")\n",
    "        accuracies[n_clusters].append(accuracy_score(y_test, y_pred))\n",
    "    mean_test_score[n_clusters] = np.mean(accuracies[n_clusters])\n",
    "    "
   ]
  },
  {
   "cell_type": "code",
   "execution_count": 49,
   "metadata": {},
   "outputs": [
    {
     "name": "stdout",
     "output_type": "stream",
     "text": [
      "{10: [0.5441176470588235, 0.6176470588235294, 0.5882352941176471, 0.7058823529411765, 0.6323529411764706, 0.5441176470588235, 0.6323529411764706, 0.7205882352941176, 0.6911764705882353, 0.6176470588235294], 20: [0.6323529411764706, 0.6764705882352942, 0.6470588235294118, 0.7352941176470589, 0.6911764705882353, 0.6176470588235294, 0.6470588235294118, 0.6470588235294118, 0.7352941176470589, 0.6176470588235294], 50: [0.6617647058823529, 0.7352941176470589, 0.6617647058823529, 0.7058823529411765, 0.6911764705882353, 0.6911764705882353, 0.6764705882352942, 0.6470588235294118, 0.7205882352941176, 0.6176470588235294], 100: [0.6764705882352942, 0.7352941176470589, 0.7058823529411765, 0.8382352941176471, 0.6764705882352942, 0.7058823529411765, 0.6764705882352942, 0.7058823529411765, 0.6617647058823529, 0.75]}\n",
      "\n",
      " {10: 0.6294117647058824, 20: 0.6647058823529413, 50: 0.6808823529411765, 100: 0.7132352941176471}\n"
     ]
    }
   ],
   "source": [
    "print(accuracies)\n",
    "print(\"\\n\", mean_test_score)"
   ]
  },
  {
   "cell_type": "code",
   "execution_count": 50,
   "metadata": {
    "scrolled": true
   },
   "outputs": [
    {
     "name": "stdout",
     "output_type": "stream",
     "text": [
      "Starting to test n_clusters = 100\n",
      "Run n°1 - Accuracy: 70.59\n",
      "Run n°2 - Accuracy: 79.41\n",
      "Run n°3 - Accuracy: 66.18\n",
      "Run n°4 - Accuracy: 67.65\n",
      "Run n°5 - Accuracy: 72.06\n",
      "Run n°6 - Accuracy: 73.53\n",
      "Run n°7 - Accuracy: 67.65\n",
      "Run n°8 - Accuracy: 69.12\n",
      "Run n°9 - Accuracy: 72.06\n",
      "Run n°10 - Accuracy: 70.59\n",
      "Starting to test n_clusters = 150\n",
      "Run n°1 - Accuracy: 75.00\n",
      "Run n°2 - Accuracy: 72.06\n",
      "Run n°3 - Accuracy: 72.06\n",
      "Run n°4 - Accuracy: 67.65\n",
      "Run n°5 - Accuracy: 72.06\n",
      "Run n°6 - Accuracy: 72.06\n",
      "Run n°7 - Accuracy: 75.00\n",
      "Run n°8 - Accuracy: 73.53\n",
      "Run n°9 - Accuracy: 80.88\n",
      "Run n°10 - Accuracy: 72.06\n",
      "Starting to test n_clusters = 200\n",
      "Run n°1 - Accuracy: 63.24\n",
      "Run n°2 - Accuracy: 72.06\n",
      "Run n°3 - Accuracy: 77.94\n",
      "Run n°4 - Accuracy: 79.41\n",
      "Run n°5 - Accuracy: 66.18\n",
      "Run n°6 - Accuracy: 66.18\n",
      "Run n°7 - Accuracy: 69.12\n",
      "Run n°8 - Accuracy: 72.06\n",
      "Run n°9 - Accuracy: 69.12\n",
      "Run n°10 - Accuracy: 73.53\n"
     ]
    }
   ],
   "source": [
    "mean_test_score = dict()\n",
    "accuracies = dict()\n",
    "for n_clusters in [100, 150, 200]:\n",
    "    print(f\"Starting to test n_clusters = {n_clusters}\")\n",
    "    params[\"n_clusters\"] = n_clusters\n",
    "    accuracies[n_clusters] = []\n",
    "    for i in range(10):\n",
    "        kmeans = MiniBatchKMeans(n_clusters=params[\"n_clusters\"], batch_size=10000)\n",
    "        kmeans.fit(descriptors)\n",
    "        X_train = pd.DataFrame(columns=range(len(kmeans.cluster_centers_)))\n",
    "        X_test = pd.DataFrame(columns=range(len(kmeans.cluster_centers_)))\n",
    "        for image in images_train:\n",
    "            kp, desc = sift.detectAndCompute(image, None)\n",
    "            labels = kmeans.predict(pd.DataFrame(desc))\n",
    "            unique, counts = np.unique(labels, return_counts=True)\n",
    "            X_train = X_train.append(dict(zip(unique, counts)), ignore_index=True)\n",
    "        for image in images_test:\n",
    "            kp, desc = sift.detectAndCompute(image, None)\n",
    "            labels = kmeans.predict(pd.DataFrame(desc))\n",
    "            unique, counts = np.unique(labels, return_counts=True)\n",
    "            X_test = X_test.append(dict(zip(unique, counts)), ignore_index=True)\n",
    "        X_train.fillna(0, inplace=True)\n",
    "        X_test.fillna(0, inplace=True)\n",
    "        le = LabelEncoder().fit(y_train)\n",
    "        y_train = le.transform(y_train)\n",
    "        y_test = le.transform(y_test)\n",
    "        param_grid = {'C': np.logspace(-10, 10, 21)}\n",
    "        model = GridSearchCV(LogisticRegression(), param_grid, cv=4, scoring='accuracy', verbose=0)\n",
    "        model.fit(X_train, y_train)\n",
    "        y_pred = model.predict(X_test)\n",
    "        print(f\"Run n°{i+1} - Accuracy: {accuracy_score(y_test, y_pred) * 100:.2f}\")\n",
    "        accuracies[n_clusters].append(accuracy_score(y_test, y_pred))\n",
    "    mean_test_score[n_clusters] = np.mean(accuracies[n_clusters])\n",
    "    "
   ]
  },
  {
   "cell_type": "code",
   "execution_count": 51,
   "metadata": {},
   "outputs": [
    {
     "name": "stdout",
     "output_type": "stream",
     "text": [
      "{100: [0.7058823529411765, 0.7941176470588235, 0.6617647058823529, 0.6764705882352942, 0.7205882352941176, 0.7352941176470589, 0.6764705882352942, 0.6911764705882353, 0.7205882352941176, 0.7058823529411765], 150: [0.75, 0.7205882352941176, 0.7205882352941176, 0.6764705882352942, 0.7205882352941176, 0.7205882352941176, 0.75, 0.7352941176470589, 0.8088235294117647, 0.7205882352941176], 200: [0.6323529411764706, 0.7205882352941176, 0.7794117647058824, 0.7941176470588235, 0.6617647058823529, 0.6617647058823529, 0.6911764705882353, 0.7205882352941176, 0.6911764705882353, 0.7352941176470589]}\n",
      "\n",
      " {100: 0.7088235294117647, 150: 0.7323529411764707, 200: 0.7088235294117647}\n"
     ]
    }
   ],
   "source": [
    "print(accuracies)\n",
    "print(\"\\n\", mean_test_score)"
   ]
  },
  {
   "cell_type": "code",
   "execution_count": 52,
   "metadata": {
    "scrolled": true
   },
   "outputs": [
    {
     "name": "stdout",
     "output_type": "stream",
     "text": [
      "Starting to test n_clusters = 125\n",
      "Run n°1 - Accuracy: 73.53\n",
      "Run n°2 - Accuracy: 75.00\n",
      "Run n°3 - Accuracy: 69.12\n",
      "Run n°4 - Accuracy: 75.00\n",
      "Run n°5 - Accuracy: 69.12\n",
      "Run n°6 - Accuracy: 72.06\n",
      "Run n°7 - Accuracy: 69.12\n",
      "Run n°8 - Accuracy: 79.41\n",
      "Run n°9 - Accuracy: 70.59\n",
      "Run n°10 - Accuracy: 69.12\n",
      "Starting to test n_clusters = 150\n",
      "Run n°1 - Accuracy: 79.41\n",
      "Run n°2 - Accuracy: 79.41\n",
      "Run n°3 - Accuracy: 70.59\n",
      "Run n°4 - Accuracy: 77.94\n",
      "Run n°5 - Accuracy: 76.47\n",
      "Run n°6 - Accuracy: 72.06\n",
      "Run n°7 - Accuracy: 77.94\n",
      "Run n°8 - Accuracy: 72.06\n",
      "Run n°9 - Accuracy: 67.65\n",
      "Run n°10 - Accuracy: 79.41\n",
      "Starting to test n_clusters = 175\n",
      "Run n°1 - Accuracy: 72.06\n",
      "Run n°2 - Accuracy: 73.53\n",
      "Run n°3 - Accuracy: 76.47\n",
      "Run n°4 - Accuracy: 76.47\n",
      "Run n°5 - Accuracy: 73.53\n",
      "Run n°6 - Accuracy: 73.53\n",
      "Run n°7 - Accuracy: 75.00\n",
      "Run n°8 - Accuracy: 75.00\n",
      "Run n°9 - Accuracy: 75.00\n",
      "Run n°10 - Accuracy: 75.00\n"
     ]
    }
   ],
   "source": [
    "mean_test_score = dict()\n",
    "accuracies = dict()\n",
    "for n_clusters in [125, 150, 175]:\n",
    "    print(f\"Starting to test n_clusters = {n_clusters}\")\n",
    "    params[\"n_clusters\"] = n_clusters\n",
    "    accuracies[n_clusters] = []\n",
    "    for i in range(10):\n",
    "        kmeans = MiniBatchKMeans(n_clusters=params[\"n_clusters\"], batch_size=10000)\n",
    "        kmeans.fit(descriptors)\n",
    "        X_train = pd.DataFrame(columns=range(len(kmeans.cluster_centers_)))\n",
    "        X_test = pd.DataFrame(columns=range(len(kmeans.cluster_centers_)))\n",
    "        for image in images_train:\n",
    "            kp, desc = sift.detectAndCompute(image, None)\n",
    "            labels = kmeans.predict(pd.DataFrame(desc))\n",
    "            unique, counts = np.unique(labels, return_counts=True)\n",
    "            X_train = X_train.append(dict(zip(unique, counts)), ignore_index=True)\n",
    "        for image in images_test:\n",
    "            kp, desc = sift.detectAndCompute(image, None)\n",
    "            labels = kmeans.predict(pd.DataFrame(desc))\n",
    "            unique, counts = np.unique(labels, return_counts=True)\n",
    "            X_test = X_test.append(dict(zip(unique, counts)), ignore_index=True)\n",
    "        X_train.fillna(0, inplace=True)\n",
    "        X_test.fillna(0, inplace=True)\n",
    "        le = LabelEncoder().fit(y_train)\n",
    "        y_train = le.transform(y_train)\n",
    "        y_test = le.transform(y_test)\n",
    "        param_grid = {'C': np.logspace(-10, 10, 21)}\n",
    "        model = GridSearchCV(LogisticRegression(), param_grid, cv=4, scoring='accuracy', verbose=0)\n",
    "        model.fit(X_train, y_train)\n",
    "        y_pred = model.predict(X_test)\n",
    "        print(f\"Run n°{i+1} - Accuracy: {accuracy_score(y_test, y_pred) * 100:.2f}\")\n",
    "        accuracies[n_clusters].append(accuracy_score(y_test, y_pred))\n",
    "    mean_test_score[n_clusters] = np.mean(accuracies[n_clusters])\n",
    "    "
   ]
  },
  {
   "cell_type": "code",
   "execution_count": 53,
   "metadata": {},
   "outputs": [
    {
     "name": "stdout",
     "output_type": "stream",
     "text": [
      "{125: [0.7352941176470589, 0.75, 0.6911764705882353, 0.75, 0.6911764705882353, 0.7205882352941176, 0.6911764705882353, 0.7941176470588235, 0.7058823529411765, 0.6911764705882353], 150: [0.7941176470588235, 0.7941176470588235, 0.7058823529411765, 0.7794117647058824, 0.7647058823529411, 0.7205882352941176, 0.7794117647058824, 0.7205882352941176, 0.6764705882352942, 0.7941176470588235], 175: [0.7205882352941176, 0.7352941176470589, 0.7647058823529411, 0.7647058823529411, 0.7352941176470589, 0.7352941176470589, 0.75, 0.75, 0.75, 0.75]}\n",
      "\n",
      " {125: 0.7220588235294119, 150: 0.7529411764705882, 175: 0.7455882352941177}\n"
     ]
    }
   ],
   "source": [
    "print(accuracies)\n",
    "print(\"\\n\", mean_test_score)"
   ]
  }
 ],
 "metadata": {
  "kernelspec": {
   "display_name": "Python 3",
   "language": "python",
   "name": "python3"
  },
  "language_info": {
   "codemirror_mode": {
    "name": "ipython",
    "version": 3
   },
   "file_extension": ".py",
   "mimetype": "text/x-python",
   "name": "python",
   "nbconvert_exporter": "python",
   "pygments_lexer": "ipython3",
   "version": "3.6.4"
  }
 },
 "nbformat": 4,
 "nbformat_minor": 2
}
