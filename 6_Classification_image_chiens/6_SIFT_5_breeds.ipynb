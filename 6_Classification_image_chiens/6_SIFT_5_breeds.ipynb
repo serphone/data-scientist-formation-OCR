{
 "cells": [
  {
   "cell_type": "markdown",
   "metadata": {},
   "source": [
    "## Imports"
   ]
  },
  {
   "cell_type": "code",
   "execution_count": 1,
   "metadata": {},
   "outputs": [],
   "source": [
    "import cv2\n",
    "import numpy as np\n",
    "import pandas as pd\n",
    "import matplotlib.pyplot as plt\n",
    "\n",
    "from sklearn.model_selection import train_test_split, GridSearchCV\n",
    "from sklearn.preprocessing import LabelEncoder, normalize\n",
    "from sklearn.cluster import MiniBatchKMeans\n",
    "from sklearn.linear_model import LogisticRegression\n",
    "from sklearn.metrics import accuracy_score\n",
    "\n",
    "from utils import load_images, plot_confusion_matrix"
   ]
  },
  {
   "cell_type": "markdown",
   "metadata": {},
   "source": [
    "## Parameters"
   ]
  },
  {
   "cell_type": "code",
   "execution_count": 2,
   "metadata": {},
   "outputs": [],
   "source": [
    "N_BREEDS = 5\n",
    "STD_SIZE = (500, 375)\n",
    "\n",
    "ENVIRONNEMENT = 'local'\n",
    "if ENVIRONNEMENT == 'colab':\n",
    "    PATH = '/content/gdrive/My Drive/Colab Notebooks/Data/'\n",
    "else:\n",
    "    PATH = 'images/'\n",
    "\n",
    "params = {\n",
    "    'filter': None,\n",
    "    'box_size': 9,  # Used only with mean, gaussian and median filter\n",
    "    'n_clusters': 75*N_BREEDS,\n",
    "}"
   ]
  },
  {
   "cell_type": "markdown",
   "metadata": {},
   "source": [
    "## Load images"
   ]
  },
  {
   "cell_type": "code",
   "execution_count": 3,
   "metadata": {
    "scrolled": true
   },
   "outputs": [
    {
     "name": "stdout",
     "output_type": "stream",
     "text": [
      "Loaded 1/5: 152 images for breed: Chihuahua\n",
      "Loaded 2/5: 185 images for breed: Japanese_spaniel\n",
      "Loaded 3/5: 252 images for breed: Maltese_dog\n",
      "Loaded 4/5: 149 images for breed: Pekinese\n",
      "Loaded 5/5: 214 images for breed: Shih\n"
     ]
    }
   ],
   "source": [
    "images_orig, y = load_images(PATH, N_BREEDS, STD_SIZE)"
   ]
  },
  {
   "cell_type": "markdown",
   "metadata": {},
   "source": [
    "## Apply filter"
   ]
  },
  {
   "cell_type": "code",
   "execution_count": 4,
   "metadata": {},
   "outputs": [
    {
     "name": "stdout",
     "output_type": "stream",
     "text": [
      "Images pre-processed with None filter\n"
     ]
    }
   ],
   "source": [
    "images = np.array(images_orig)\n",
    "if params['filter'] == 'equalize':\n",
    "    images = [cv2.equalizeHist(img) for img in images]\n",
    "if params['filter'] == 'mean':\n",
    "    images = [cv2.blur(img, (params['box_size'], params['box_size'])) for img in images]\n",
    "if params['filter'] == 'gaussian':\n",
    "    images = [cv2.GaussianBlur(img, (params['box_size'], params['box_size']), 0) for img in images]\n",
    "if params['filter'] == 'median':\n",
    "    images = [cv2.medianBlur(img, params['box_size']) for img in images]\n",
    "if params['filter'] == 'non-local':\n",
    "    images = [cv2.fastNlMeansDenoising(img) for img in images]\n",
    "if params['filter'] == 'whitening':   \n",
    "    images = np.array(images_orig)\n",
    "    images_temp = images.reshape(images.shape[0], -1)\n",
    "    images_temp = images_temp - images_temp.mean(axis=0)\n",
    "    cov = np.cov(images_temp, rowvar=True)\n",
    "    U, S, V = np.linalg.svd(cov)\n",
    "    epsilon = 1e-1\n",
    "    images_ZCA = np.dot(np.dot(U, np.dot(np.diag(1.0 / np.sqrt(S + epsilon)), U.T)), images_temp)\n",
    "    images_ZCA_rescaled = 255 * (images_ZCA - images_ZCA.min()) / (images_ZCA.max() - images_ZCA.min())\n",
    "    images = images_ZCA_rescaled.reshape(images.shape[0], 375, 500).astype('uint8') \n",
    "images = np.array(images)\n",
    "print(f\"Images pre-processed with {params['filter']} filter\")"
   ]
  },
  {
   "cell_type": "markdown",
   "metadata": {},
   "source": [
    "## Train/test split"
   ]
  },
  {
   "cell_type": "code",
   "execution_count": 5,
   "metadata": {},
   "outputs": [],
   "source": [
    "images_train, images_test, y_train, y_test = train_test_split(images, y, test_size=0.20, stratify=y, random_state=0)"
   ]
  },
  {
   "cell_type": "markdown",
   "metadata": {},
   "source": [
    "## Extract SIFT features"
   ]
  },
  {
   "cell_type": "code",
   "execution_count": 6,
   "metadata": {},
   "outputs": [
    {
     "name": "stdout",
     "output_type": "stream",
     "text": [
      "659616 SIFT descriptors detected over 761 images\n"
     ]
    }
   ],
   "source": [
    "sift = cv2.xfeatures2d_SIFT.create()\n",
    "descriptors = []\n",
    "for image in images_train:\n",
    "    kp, desc = sift.detectAndCompute(image, None)\n",
    "    descriptors.extend([x for x in desc])\n",
    "print(f'{len(descriptors)} SIFT descriptors detected over {images_train.shape[0]} images')"
   ]
  },
  {
   "cell_type": "markdown",
   "metadata": {},
   "source": [
    "## KMeans clustering"
   ]
  },
  {
   "cell_type": "code",
   "execution_count": 7,
   "metadata": {},
   "outputs": [
    {
     "name": "stdout",
     "output_type": "stream",
     "text": [
      "KMeans clustering with 375 clusters\n"
     ]
    }
   ],
   "source": [
    "kmeans = MiniBatchKMeans(n_clusters=params['n_clusters'], batch_size=10000, random_state=0)\n",
    "kmeans.fit(descriptors)\n",
    "print(f'KMeans clustering with {params[\"n_clusters\"]} clusters')"
   ]
  },
  {
   "cell_type": "markdown",
   "metadata": {},
   "source": [
    "## Inputs"
   ]
  },
  {
   "cell_type": "code",
   "execution_count": 8,
   "metadata": {},
   "outputs": [],
   "source": [
    "X_train = pd.DataFrame(columns=range(len(kmeans.cluster_centers_)))\n",
    "X_test = pd.DataFrame(columns=range(len(kmeans.cluster_centers_)))\n",
    "for image in images_train:\n",
    "    kp, desc = sift.detectAndCompute(image, None)\n",
    "    labels = kmeans.predict(pd.DataFrame(desc))\n",
    "    unique, counts = np.unique(labels, return_counts=True)\n",
    "    X_train = X_train.append(dict(zip(unique, counts)), ignore_index=True)\n",
    "for image in images_test:\n",
    "    kp, desc = sift.detectAndCompute(image, None)\n",
    "    labels = kmeans.predict(pd.DataFrame(desc))\n",
    "    unique, counts = np.unique(labels, return_counts=True)\n",
    "    X_test = X_test.append(dict(zip(unique, counts)), ignore_index=True)\n",
    "\n",
    "X_train.fillna(0, inplace=True)\n",
    "X_test.fillna(0, inplace=True)"
   ]
  },
  {
   "cell_type": "markdown",
   "metadata": {},
   "source": [
    "## Output"
   ]
  },
  {
   "cell_type": "code",
   "execution_count": 9,
   "metadata": {},
   "outputs": [],
   "source": [
    "le = LabelEncoder().fit(y_train)\n",
    "y_train = le.transform(y_train)\n",
    "y_test = le.transform(y_test)"
   ]
  },
  {
   "cell_type": "markdown",
   "metadata": {},
   "source": [
    "## Train classifier (CV)"
   ]
  },
  {
   "cell_type": "code",
   "execution_count": 10,
   "metadata": {
    "scrolled": true
   },
   "outputs": [
    {
     "name": "stdout",
     "output_type": "stream",
     "text": [
      "Fitting 4 folds for each of 21 candidates, totalling 84 fits\n"
     ]
    },
    {
     "name": "stderr",
     "output_type": "stream",
     "text": [
      "[Parallel(n_jobs=1)]: Done  84 out of  84 | elapsed:   36.5s finished\n"
     ]
    },
    {
     "data": {
      "image/png": "[encoded data removed]",
      "text/plain": [
       "<matplotlib.figure.Figure at 0x2a46198>"
      ]
     },
     "metadata": {},
     "output_type": "display_data"
    }
   ],
   "source": [
    "param_grid = {'C': np.logspace(-10, 10, 21)}\n",
    "model = GridSearchCV(LogisticRegression(), param_grid, cv=4, scoring='accuracy', verbose=1)\n",
    "model.fit(X_train, y_train)\n",
    "\n",
    "plt.semilogx(model.param_grid['C'], model.cv_results_['mean_test_score'])\n",
    "plt.ylabel('Accuracy')\n",
    "plt.xlabel('C')\n",
    "plt.show()\n",
    "\n",
    "y_pred = model.predict(X_test)"
   ]
  },
  {
   "cell_type": "markdown",
   "metadata": {},
   "source": [
    "## Results"
   ]
  },
  {
   "cell_type": "code",
   "execution_count": 11,
   "metadata": {},
   "outputs": [
    {
     "name": "stdout",
     "output_type": "stream",
     "text": [
      "----- Accuracy: 43.98 % -----\n",
      "Filter: None (box size: 9 - only relevant for mean, gaussian and median filters)\n",
      "n_clusters: 375\n"
     ]
    },
    {
     "data": {
      "image/png": "[encoded data removed]",
      "text/plain": [
       "<matplotlib.figure.Figure at 0x4b3de908>"
      ]
     },
     "metadata": {},
     "output_type": "display_data"
    }
   ],
   "source": [
    "print(f'----- Accuracy: {accuracy_score(y_test, y_pred) * 100:.2f} % -----')\n",
    "print(f'Filter: {params[\"filter\"]} (box size: {params[\"box_size\"]} - only relevant for mean, gaussian and median filters)')\n",
    "print(f'n_clusters: {params[\"n_clusters\"]}')\n",
    "\n",
    "plot_confusion_matrix(y_test, y_pred, le.classes_)\n",
    "plt.show()"
   ]
  }
 ],
 "metadata": {
  "kernelspec": {
   "display_name": "Python 3",
   "language": "python",
   "name": "python3"
  },
  "language_info": {
   "codemirror_mode": {
    "name": "ipython",
    "version": 3
   },
   "file_extension": ".py",
   "mimetype": "text/x-python",
   "name": "python",
   "nbconvert_exporter": "python",
   "pygments_lexer": "ipython3",
   "version": "3.6.1"
  }
 },
 "nbformat": 4,
 "nbformat_minor": 2
}
