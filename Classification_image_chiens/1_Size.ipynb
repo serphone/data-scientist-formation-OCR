{
 "cells": [
  {
   "cell_type": "markdown",
   "metadata": {},
   "source": [
    "## Objective: analyze dataset to determine a standard size"
   ]
  },
  {
   "cell_type": "code",
   "execution_count": 1,
   "metadata": {},
   "outputs": [],
   "source": [
    "import os\n",
    "import cv2\n",
    "import pandas as pd\n",
    "import matplotlib.pyplot as plt\n",
    "\n",
    "data_path = 'images/'"
   ]
  },
  {
   "cell_type": "code",
   "execution_count": 2,
   "metadata": {},
   "outputs": [],
   "source": [
    "df = []\n",
    "for breed in os.listdir(data_path):\n",
    "    for dog in os.listdir(data_path + breed):\n",
    "        img = cv2.imread(data_path + breed + '/' + dog)\n",
    "        df.append((img.shape[0], img.shape[1], img.shape[0] / img.shape[1]))\n",
    "df = pd.DataFrame(df, columns=['Height', 'Width', 'Ratio'])"
   ]
  },
  {
   "cell_type": "code",
   "execution_count": 3,
   "metadata": {},
   "outputs": [
    {
     "name": "stdout",
     "output_type": "stream",
     "text": [
      "Dataset contains 120 breeds and a total of 20580 images.\n"
     ]
    }
   ],
   "source": [
    "n_breeds = len(os.listdir(data_path))\n",
    "n_images = df.shape[0]\n",
    "print(f'Dataset contains {n_breeds} breeds and a total of {n_images} images.')"
   ]
  },
  {
   "cell_type": "code",
   "execution_count": 10,
   "metadata": {},
   "outputs": [
    {
     "data": {
      "text/html": [
       "<div>\n",
       "<style scoped>\n",
       "    .dataframe tbody tr th:only-of-type {\n",
       "        vertical-align: middle;\n",
       "    }\n",
       "\n",
       "    .dataframe tbody tr th {\n",
       "        vertical-align: top;\n",
       "    }\n",
       "\n",
       "    .dataframe thead th {\n",
       "        text-align: right;\n",
       "    }\n",
       "</style>\n",
       "<table border=\"1\" class=\"dataframe\">\n",
       "  <thead>\n",
       "    <tr style=\"text-align: right;\">\n",
       "      <th></th>\n",
       "      <th>count</th>\n",
       "      <th>mean</th>\n",
       "      <th>std</th>\n",
       "      <th>min</th>\n",
       "      <th>25%</th>\n",
       "      <th>50%</th>\n",
       "      <th>75%</th>\n",
       "      <th>max</th>\n",
       "    </tr>\n",
       "  </thead>\n",
       "  <tbody>\n",
       "    <tr>\n",
       "      <th>Height</th>\n",
       "      <td>20580.0</td>\n",
       "      <td>385.861224</td>\n",
       "      <td>124.863446</td>\n",
       "      <td>100.00000</td>\n",
       "      <td>333.000000</td>\n",
       "      <td>375.00</td>\n",
       "      <td>453.000000</td>\n",
       "      <td>2562.000000</td>\n",
       "    </tr>\n",
       "    <tr>\n",
       "      <th>Width</th>\n",
       "      <td>20580.0</td>\n",
       "      <td>442.531876</td>\n",
       "      <td>142.792308</td>\n",
       "      <td>97.00000</td>\n",
       "      <td>361.000000</td>\n",
       "      <td>500.00</td>\n",
       "      <td>500.000000</td>\n",
       "      <td>3264.000000</td>\n",
       "    </tr>\n",
       "    <tr>\n",
       "      <th>Ratio</th>\n",
       "      <td>20580.0</td>\n",
       "      <td>0.912368</td>\n",
       "      <td>0.287046</td>\n",
       "      <td>0.27521</td>\n",
       "      <td>0.747826</td>\n",
       "      <td>0.75</td>\n",
       "      <td>1.079914</td>\n",
       "      <td>2.540816</td>\n",
       "    </tr>\n",
       "  </tbody>\n",
       "</table>\n",
       "</div>"
      ],
      "text/plain": [
       "          count        mean         std        min         25%     50%  \\\n",
       "Height  20580.0  385.861224  124.863446  100.00000  333.000000  375.00   \n",
       "Width   20580.0  442.531876  142.792308   97.00000  361.000000  500.00   \n",
       "Ratio   20580.0    0.912368    0.287046    0.27521    0.747826    0.75   \n",
       "\n",
       "               75%          max  \n",
       "Height  453.000000  2562.000000  \n",
       "Width   500.000000  3264.000000  \n",
       "Ratio     1.079914     2.540816  "
      ]
     },
     "execution_count": 10,
     "metadata": {},
     "output_type": "execute_result"
    }
   ],
   "source": [
    "df.describe().T"
   ]
  },
  {
   "cell_type": "code",
   "execution_count": 15,
   "metadata": {},
   "outputs": [
    {
     "data": {
      "image/png": "[encoded data removed]",
      "text/plain": [
       "<matplotlib.figure.Figure at 0x113c0240>"
      ]
     },
     "metadata": {},
     "output_type": "display_data"
    }
   ],
   "source": [
    "f = plt.figure(figsize=(15, 15)) \n",
    "\n",
    "plt.subplot(311)\n",
    "plt.hist(df['Height'], bins=100, range=(0, 1000))\n",
    "plt.subplot(312)\n",
    "plt.hist(df['Width'], bins=100, range=(0, 1000))\n",
    "plt.subplot(313)\n",
    "plt.hist(df['Ratio'], bins=100, range=(0, 2))\n",
    "\n",
    "plt.show()"
   ]
  },
  {
   "cell_type": "markdown",
   "metadata": {},
   "source": [
    "#### Most common dimension seems to be 500x375 (ratio 0.75)"
   ]
  }
 ],
 "metadata": {
  "kernelspec": {
   "display_name": "Python 3",
   "language": "python",
   "name": "python3"
  },
  "language_info": {
   "codemirror_mode": {
    "name": "ipython",
    "version": 3
   },
   "file_extension": ".py",
   "mimetype": "text/x-python",
   "name": "python",
   "nbconvert_exporter": "python",
   "pygments_lexer": "ipython3",
   "version": "3.6.1"
  }
 },
 "nbformat": 4,
 "nbformat_minor": 2
}
